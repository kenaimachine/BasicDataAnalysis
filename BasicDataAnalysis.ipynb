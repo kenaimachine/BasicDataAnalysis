{
 "cells": [
  {
   "cell_type": "markdown",
   "metadata": {
    "colab_type": "text",
    "id": "wse8vWWRD0K5"
   },
   "source": [
    "# Basic Dataset Analysis\n",
    "\n",
    "## Smartphone Application Dataset Analysis\n"
   ]
  },
  {
   "cell_type": "markdown",
   "metadata": {
    "colab_type": "text",
    "id": "3lh7DlB8D0K8"
   },
   "source": [
    "## In this Notebook, analyse the dataset for Smartphone Application\n",
    "\n",
    "Use csv file 'dataset.csv' with all the data    \n",
    "There are 13 columns in the csv file.    \n",
    "The first row is the header.    \n",
    "Following are the description for each column\n",
    "1.App\t\n",
    "2.Category   \n",
    "3.Rating  \n",
    "4.Reviews\t\n",
    "5.Size\t\n",
    "6.Installs\t\n",
    "7.Type\t\n",
    "8.Price\t\n",
    "9.Content Rating\t\n",
    "10.Genres\t\n",
    "11.Last Updated\t\n",
    "12.Current Ver\t\n",
    "13.Android Ver\n",
    "\n",
    "\n",
    "\n"
   ]
  },
  {
   "cell_type": "markdown",
   "metadata": {
    "colab_type": "text",
    "id": "1xIPH2cUD0K9"
   },
   "source": [
    "### The series of steps to follow :\n",
    "> #### 1. Import Packages\n",
    "> #### 2. Read Data\n",
    "> #### 3. Data Preprocessing\n",
    "    > #### -  3.1 Handling NULL or Duplicate Values\n",
    "    > #### -  3.2 Handling Data Types and Values\n",
    "> #### 4. Analyzing Features\n",
    "> #### 5. Further Analysis\n",
    "\n"
   ]
  },
  {
   "cell_type": "markdown",
   "metadata": {
    "colab_type": "text",
    "id": "GF0JX8yLD0K9"
   },
   "source": [
    "<a id='1'></a>\n",
    "## 1. Importing the required packages"
   ]
  },
  {
   "cell_type": "code",
   "execution_count": 1,
   "metadata": {
    "colab": {
     "base_uri": "https://localhost:8080/",
     "height": 71
    },
    "colab_type": "code",
    "executionInfo": {
     "elapsed": 1206,
     "status": "ok",
     "timestamp": 1589784763524,
     "user": {
      "displayName": "Kenneth Liang",
      "photoUrl": "",
      "userId": "05662177769588552056"
     },
     "user_tz": -480
    },
    "id": "cf7QDAWgD0K-",
    "outputId": "61472487-5ca5-497f-c143-85ab80b7dfd2"
   },
   "outputs": [
    {
     "name": "stderr",
     "output_type": "stream",
     "text": [
      "/usr/local/lib/python3.6/dist-packages/statsmodels/tools/_testing.py:19: FutureWarning: pandas.util.testing is deprecated. Use the functions in the public API at pandas.testing instead.\n",
      "  import pandas.util.testing as tm\n"
     ]
    }
   ],
   "source": [
    "import matplotlib.pyplot as plt\n",
    "import seaborn as sns\n",
    "#To hide Warning messages.\n",
    "import warnings\n",
    "warnings.filterwarnings('ignore')\n",
    "\n",
    "#Add code \n",
    "#add module here\n",
    "import pandas as pd\n",
    "import numpy as np"
   ]
  },
  {
   "cell_type": "code",
   "execution_count": 2,
   "metadata": {
    "colab": {
     "base_uri": "https://localhost:8080/",
     "height": 34
    },
    "colab_type": "code",
    "executionInfo": {
     "elapsed": 1200,
     "status": "ok",
     "timestamp": 1589784763525,
     "user": {
      "displayName": "Kenneth Liang",
      "photoUrl": "",
      "userId": "05662177769588552056"
     },
     "user_tz": -480
    },
    "id": "s-oUZ8EbD5nT",
    "outputId": "beead06e-9f81-4ea8-f809-e977cb212028"
   },
   "outputs": [
    {
     "name": "stdout",
     "output_type": "stream",
     "text": [
      "Drive already mounted at /content/drive/; to attempt to forcibly remount, call drive.mount(\"/content/drive/\", force_remount=True).\n"
     ]
    }
   ],
   "source": [
    "#Add code \n",
    "\n",
    "from google.colab import drive\n",
    "drive.mount('/content/drive/')\n",
    "\n",
    "data_dir_path='/content/drive/My Drive/Data/DSA1/'"
   ]
  },
  {
   "cell_type": "markdown",
   "metadata": {
    "colab_type": "text",
    "id": "ZOPxB_dLD0LC"
   },
   "source": [
    "***"
   ]
  },
  {
   "cell_type": "markdown",
   "metadata": {
    "colab_type": "text",
    "id": "jr-tdc_HD0LD"
   },
   "source": [
    "<a id='2'></a>\n",
    "## 2.  Reading Data\n"
   ]
  },
  {
   "cell_type": "code",
   "execution_count": 3,
   "metadata": {
    "colab": {
     "base_uri": "https://localhost:8080/",
     "height": 323
    },
    "colab_type": "code",
    "executionInfo": {
     "elapsed": 1687,
     "status": "ok",
     "timestamp": 1589784764019,
     "user": {
      "displayName": "Kenneth Liang",
      "photoUrl": "",
      "userId": "05662177769588552056"
     },
     "user_tz": -480
    },
    "id": "3qeP7hW_D0LE",
    "outputId": "c28ca9e9-6b7b-4a4d-97eb-e931f91abaf5"
   },
   "outputs": [
    {
     "data": {
      "text/html": [
       "<div>\n",
       "<style scoped>\n",
       "    .dataframe tbody tr th:only-of-type {\n",
       "        vertical-align: middle;\n",
       "    }\n",
       "\n",
       "    .dataframe tbody tr th {\n",
       "        vertical-align: top;\n",
       "    }\n",
       "\n",
       "    .dataframe thead th {\n",
       "        text-align: right;\n",
       "    }\n",
       "</style>\n",
       "<table border=\"1\" class=\"dataframe\">\n",
       "  <thead>\n",
       "    <tr style=\"text-align: right;\">\n",
       "      <th></th>\n",
       "      <th>App</th>\n",
       "      <th>Category</th>\n",
       "      <th>Rating</th>\n",
       "      <th>Reviews</th>\n",
       "      <th>Size</th>\n",
       "      <th>Installs</th>\n",
       "      <th>Type</th>\n",
       "      <th>Price</th>\n",
       "      <th>Content Rating</th>\n",
       "      <th>Genres</th>\n",
       "      <th>Last Updated</th>\n",
       "      <th>Current Ver</th>\n",
       "      <th>Android Ver</th>\n",
       "    </tr>\n",
       "  </thead>\n",
       "  <tbody>\n",
       "    <tr>\n",
       "      <th>0</th>\n",
       "      <td>Photo Editor &amp; Candy Camera &amp; Grid &amp; ScrapBook</td>\n",
       "      <td>ART_AND_DESIGN</td>\n",
       "      <td>4.1</td>\n",
       "      <td>159</td>\n",
       "      <td>19M</td>\n",
       "      <td>10,000+</td>\n",
       "      <td>Free</td>\n",
       "      <td>0</td>\n",
       "      <td>Everyone</td>\n",
       "      <td>Art &amp; Design</td>\n",
       "      <td>January 7, 2018</td>\n",
       "      <td>1.0.0</td>\n",
       "      <td>4.0.3 and up</td>\n",
       "    </tr>\n",
       "    <tr>\n",
       "      <th>1</th>\n",
       "      <td>Coloring book moana</td>\n",
       "      <td>ART_AND_DESIGN</td>\n",
       "      <td>3.9</td>\n",
       "      <td>967</td>\n",
       "      <td>14M</td>\n",
       "      <td>500,000+</td>\n",
       "      <td>Free</td>\n",
       "      <td>0</td>\n",
       "      <td>Everyone</td>\n",
       "      <td>Art &amp; Design;Pretend Play</td>\n",
       "      <td>January 15, 2018</td>\n",
       "      <td>2.0.0</td>\n",
       "      <td>4.0.3 and up</td>\n",
       "    </tr>\n",
       "    <tr>\n",
       "      <th>2</th>\n",
       "      <td>U Launcher Lite – FREE Live Cool Themes, Hide ...</td>\n",
       "      <td>ART_AND_DESIGN</td>\n",
       "      <td>4.7</td>\n",
       "      <td>87510</td>\n",
       "      <td>8.7M</td>\n",
       "      <td>5,000,000+</td>\n",
       "      <td>Free</td>\n",
       "      <td>0</td>\n",
       "      <td>Everyone</td>\n",
       "      <td>Art &amp; Design</td>\n",
       "      <td>August 1, 2018</td>\n",
       "      <td>1.2.4</td>\n",
       "      <td>4.0.3 and up</td>\n",
       "    </tr>\n",
       "    <tr>\n",
       "      <th>3</th>\n",
       "      <td>Sketch - Draw &amp; Paint</td>\n",
       "      <td>ART_AND_DESIGN</td>\n",
       "      <td>4.5</td>\n",
       "      <td>215644</td>\n",
       "      <td>25M</td>\n",
       "      <td>50,000,000+</td>\n",
       "      <td>Free</td>\n",
       "      <td>0</td>\n",
       "      <td>Teen</td>\n",
       "      <td>Art &amp; Design</td>\n",
       "      <td>June 8, 2018</td>\n",
       "      <td>Varies with device</td>\n",
       "      <td>4.2 and up</td>\n",
       "    </tr>\n",
       "    <tr>\n",
       "      <th>4</th>\n",
       "      <td>Pixel Draw - Number Art Coloring Book</td>\n",
       "      <td>ART_AND_DESIGN</td>\n",
       "      <td>4.3</td>\n",
       "      <td>967</td>\n",
       "      <td>2.8M</td>\n",
       "      <td>100,000+</td>\n",
       "      <td>Free</td>\n",
       "      <td>0</td>\n",
       "      <td>Everyone</td>\n",
       "      <td>Art &amp; Design;Creativity</td>\n",
       "      <td>June 20, 2018</td>\n",
       "      <td>1.1</td>\n",
       "      <td>4.4 and up</td>\n",
       "    </tr>\n",
       "  </tbody>\n",
       "</table>\n",
       "</div>"
      ],
      "text/plain": [
       "                                                 App  ...   Android Ver\n",
       "0     Photo Editor & Candy Camera & Grid & ScrapBook  ...  4.0.3 and up\n",
       "1                                Coloring book moana  ...  4.0.3 and up\n",
       "2  U Launcher Lite – FREE Live Cool Themes, Hide ...  ...  4.0.3 and up\n",
       "3                              Sketch - Draw & Paint  ...    4.2 and up\n",
       "4              Pixel Draw - Number Art Coloring Book  ...    4.4 and up\n",
       "\n",
       "[5 rows x 13 columns]"
      ]
     },
     "execution_count": 3,
     "metadata": {
      "tags": []
     },
     "output_type": "execute_result"
    }
   ],
   "source": [
    "#read in the csv file 'dataset.csv'\n",
    "#display the first 5 rows of data\n",
    "\n",
    "\n",
    "df=pd.read_csv(data_dir_path+'dataset.csv')\n",
    "df.head(5)\n"
   ]
  },
  {
   "cell_type": "code",
   "execution_count": 4,
   "metadata": {
    "colab": {
     "base_uri": "https://localhost:8080/",
     "height": 34
    },
    "colab_type": "code",
    "executionInfo": {
     "elapsed": 1680,
     "status": "ok",
     "timestamp": 1589784764019,
     "user": {
      "displayName": "Kenneth Liang",
      "photoUrl": "",
      "userId": "05662177769588552056"
     },
     "user_tz": -480
    },
    "id": "lDPFoWKnyTYj",
    "outputId": "f87b5054-4043-47ac-ec0e-3fc547ebc192"
   },
   "outputs": [
    {
     "name": "stdout",
     "output_type": "stream",
     "text": [
      "(10841, 13)\n"
     ]
    }
   ],
   "source": [
    "print(df.shape) #to understand the shape of the dataset"
   ]
  },
  {
   "cell_type": "code",
   "execution_count": 5,
   "metadata": {
    "colab": {
     "base_uri": "https://localhost:8080/",
     "height": 34
    },
    "colab_type": "code",
    "executionInfo": {
     "elapsed": 1673,
     "status": "ok",
     "timestamp": 1589784764019,
     "user": {
      "displayName": "Kenneth Liang",
      "photoUrl": "",
      "userId": "05662177769588552056"
     },
     "user_tz": -480
    },
    "id": "UYoUuTFWyZvm",
    "outputId": "03a944a2-f53d-4b0a-c18e-a44286a62350"
   },
   "outputs": [
    {
     "data": {
      "text/plain": [
       "1481"
      ]
     },
     "execution_count": 5,
     "metadata": {
      "tags": []
     },
     "output_type": "execute_result"
    }
   ],
   "source": [
    "#count the number of rows in which there is at least one null value in that row.\n",
    "(df.isnull()).any(axis=1).sum()"
   ]
  },
  {
   "cell_type": "markdown",
   "metadata": {
    "colab_type": "text",
    "id": "hhyOgj9WD0LH"
   },
   "source": [
    "***"
   ]
  },
  {
   "cell_type": "markdown",
   "metadata": {
    "colab_type": "text",
    "id": "KDWrQ5aND0LI"
   },
   "source": [
    "<a id='3.1'></a>\n",
    "\n",
    "## 3. Data Preprocessing\n",
    "\n"
   ]
  },
  {
   "cell_type": "markdown",
   "metadata": {
    "colab_type": "text",
    "id": "sVXTOkCvydcr"
   },
   "source": [
    "### 3.1 Handling NULL or Duplicate Values"
   ]
  },
  {
   "cell_type": "markdown",
   "metadata": {
    "colab_type": "text",
    "id": "DOQWNUqXD0LJ"
   },
   "source": [
    "#### This is a very crucial step. \n",
    "\n",
    "This setp will improves the accuracy of insights and predictions.   \n"
   ]
  },
  {
   "cell_type": "code",
   "execution_count": 6,
   "metadata": {
    "colab": {
     "base_uri": "https://localhost:8080/",
     "height": 782
    },
    "colab_type": "code",
    "executionInfo": {
     "elapsed": 1667,
     "status": "ok",
     "timestamp": 1589784764020,
     "user": {
      "displayName": "Kenneth Liang",
      "photoUrl": "",
      "userId": "05662177769588552056"
     },
     "user_tz": -480
    },
    "id": "eaxu7acQD0LK",
    "outputId": "ce03c476-fb1c-42ca-b801-21d58f2c8174"
   },
   "outputs": [
    {
     "name": "stdout",
     "output_type": "stream",
     "text": [
      "df.isnull().sum() : \n",
      "App                  0\n",
      "Category             0\n",
      "Rating            1474\n",
      "Reviews              0\n",
      "Size                 0\n",
      "Installs             0\n",
      "Type                 1\n",
      "Price                0\n",
      "Content Rating       1\n",
      "Genres               0\n",
      "Last Updated         0\n",
      "Current Ver          8\n",
      "Android Ver          3\n",
      "dtype: int64\n",
      "df.isnull().sum().sum() : \n",
      "1487\n",
      "                                                 App        Category  Rating  \\\n",
      "0     Photo Editor & Candy Camera & Grid & ScrapBook  ART_AND_DESIGN     4.1   \n",
      "1                                Coloring book moana  ART_AND_DESIGN     3.9   \n",
      "2  U Launcher Lite – FREE Live Cool Themes, Hide ...  ART_AND_DESIGN     4.7   \n",
      "3                              Sketch - Draw & Paint  ART_AND_DESIGN     4.5   \n",
      "4              Pixel Draw - Number Art Coloring Book  ART_AND_DESIGN     4.3   \n",
      "\n",
      "  Reviews  Size     Installs  Type Price Content Rating  \\\n",
      "0     159   19M      10,000+  Free     0       Everyone   \n",
      "1     967   14M     500,000+  Free     0       Everyone   \n",
      "2   87510  8.7M   5,000,000+  Free     0       Everyone   \n",
      "3  215644   25M  50,000,000+  Free     0           Teen   \n",
      "4     967  2.8M     100,000+  Free     0       Everyone   \n",
      "\n",
      "                      Genres      Last Updated         Current Ver  \\\n",
      "0               Art & Design   January 7, 2018               1.0.0   \n",
      "1  Art & Design;Pretend Play  January 15, 2018               2.0.0   \n",
      "2               Art & Design    August 1, 2018               1.2.4   \n",
      "3               Art & Design      June 8, 2018  Varies with device   \n",
      "4    Art & Design;Creativity     June 20, 2018                 1.1   \n",
      "\n",
      "    Android Ver  \n",
      "0  4.0.3 and up  \n",
      "1  4.0.3 and up  \n",
      "2  4.0.3 and up  \n",
      "3    4.2 and up  \n",
      "4    4.4 and up  \n",
      "(9360, 13)\n"
     ]
    }
   ],
   "source": [
    "pd.options.display.max_columns = None\n",
    "print('df.isnull().sum() :','\\n{}'.format(df.isnull().sum()))\n",
    "#Count all NaN in a DataFrame (both columns & Rows)\n",
    "print('df.isnull().sum().sum() :','\\n{}'.format(df.isnull().sum().sum()))\n",
    "\n",
    "df.dropna(axis=0,inplace=True) #add axis=0 just to be explicit that only rows are removed.\n",
    "\n",
    "print(df.head())\n",
    "print(df.shape)"
   ]
  },
  {
   "cell_type": "markdown",
   "metadata": {
    "colab_type": "text",
    "id": "7eXlLvFHD0LM"
   },
   "source": [
    "#### There are also duplicates in the dataset\n",
    "Remove the duplicated entries in the dataset \n",
    "\n",
    "\n"
   ]
  },
  {
   "cell_type": "code",
   "execution_count": 7,
   "metadata": {
    "colab": {
     "base_uri": "https://localhost:8080/",
     "height": 918
    },
    "colab_type": "code",
    "executionInfo": {
     "elapsed": 1661,
     "status": "ok",
     "timestamp": 1589784764020,
     "user": {
      "displayName": "Kenneth Liang",
      "photoUrl": "",
      "userId": "05662177769588552056"
     },
     "user_tz": -480
    },
    "id": "3IdV9KXUD0LO",
    "outputId": "de157b77-bbb1-41f4-b167-a690e2301ab0"
   },
   "outputs": [
    {
     "name": "stdout",
     "output_type": "stream",
     "text": [
      "                                                    App             Category  \\\n",
      "0        Photo Editor & Candy Camera & Grid & ScrapBook       ART_AND_DESIGN   \n",
      "1                                   Coloring book moana       ART_AND_DESIGN   \n",
      "2     U Launcher Lite – FREE Live Cool Themes, Hide ...       ART_AND_DESIGN   \n",
      "3                                 Sketch - Draw & Paint       ART_AND_DESIGN   \n",
      "4                 Pixel Draw - Number Art Coloring Book       ART_AND_DESIGN   \n",
      "...                                                 ...                  ...   \n",
      "8881                                      FR Calculator               FAMILY   \n",
      "8882                                   Sya9a Maroc - FR               FAMILY   \n",
      "8883                   Fr. Mike Schmitz Audio Teachings               FAMILY   \n",
      "8884                      The SCP Foundation DB fr nn5n  BOOKS_AND_REFERENCE   \n",
      "8885      iHoroscope - 2018 Daily Horoscope & Astrology            LIFESTYLE   \n",
      "\n",
      "      Rating Reviews                Size     Installs  Type Price  \\\n",
      "0        4.1     159                 19M      10,000+  Free     0   \n",
      "1        3.9     967                 14M     500,000+  Free     0   \n",
      "2        4.7   87510                8.7M   5,000,000+  Free     0   \n",
      "3        4.5  215644                 25M  50,000,000+  Free     0   \n",
      "4        4.3     967                2.8M     100,000+  Free     0   \n",
      "...      ...     ...                 ...          ...   ...   ...   \n",
      "8881     4.0       7                2.6M         500+  Free     0   \n",
      "8882     4.5      38                 53M       5,000+  Free     0   \n",
      "8883     5.0       4                3.6M         100+  Free     0   \n",
      "8884     4.5     114  Varies with device       1,000+  Free     0   \n",
      "8885     4.5  398307                 19M  10,000,000+  Free     0   \n",
      "\n",
      "     Content Rating                     Genres      Last Updated  \\\n",
      "0          Everyone               Art & Design   January 7, 2018   \n",
      "1          Everyone  Art & Design;Pretend Play  January 15, 2018   \n",
      "2          Everyone               Art & Design    August 1, 2018   \n",
      "3              Teen               Art & Design      June 8, 2018   \n",
      "4          Everyone    Art & Design;Creativity     June 20, 2018   \n",
      "...             ...                        ...               ...   \n",
      "8881       Everyone                  Education     June 18, 2017   \n",
      "8882       Everyone                  Education     July 25, 2017   \n",
      "8883       Everyone                  Education      July 6, 2018   \n",
      "8884     Mature 17+          Books & Reference  January 19, 2015   \n",
      "8885       Everyone                  Lifestyle     July 25, 2018   \n",
      "\n",
      "             Current Ver         Android Ver  \n",
      "0                  1.0.0        4.0.3 and up  \n",
      "1                  2.0.0        4.0.3 and up  \n",
      "2                  1.2.4        4.0.3 and up  \n",
      "3     Varies with device          4.2 and up  \n",
      "4                    1.1          4.4 and up  \n",
      "...                  ...                 ...  \n",
      "8881               1.0.0          4.1 and up  \n",
      "8882                1.48          4.1 and up  \n",
      "8883                 1.0          4.1 and up  \n",
      "8884  Varies with device  Varies with device  \n",
      "8885  Varies with device  Varies with device  \n",
      "\n",
      "[8886 rows x 13 columns]\n"
     ]
    }
   ],
   "source": [
    "\n",
    "df.drop_duplicates(keep='first', inplace=True, ignore_index=True)\n",
    "\n",
    "\n",
    "print(df)"
   ]
  },
  {
   "cell_type": "code",
   "execution_count": 8,
   "metadata": {
    "colab": {
     "base_uri": "https://localhost:8080/",
     "height": 691
    },
    "colab_type": "code",
    "executionInfo": {
     "elapsed": 1653,
     "status": "ok",
     "timestamp": 1589784764020,
     "user": {
      "displayName": "Kenneth Liang",
      "photoUrl": "",
      "userId": "05662177769588552056"
     },
     "user_tz": -480
    },
    "id": "N4nVD0J95yx8",
    "outputId": "02b3d458-2bb3-4388-b867-e1c533f230a3"
   },
   "outputs": [
    {
     "data": {
      "text/html": [
       "<div>\n",
       "<style scoped>\n",
       "    .dataframe tbody tr th:only-of-type {\n",
       "        vertical-align: middle;\n",
       "    }\n",
       "\n",
       "    .dataframe tbody tr th {\n",
       "        vertical-align: top;\n",
       "    }\n",
       "\n",
       "    .dataframe thead th {\n",
       "        text-align: right;\n",
       "    }\n",
       "</style>\n",
       "<table border=\"1\" class=\"dataframe\">\n",
       "  <thead>\n",
       "    <tr style=\"text-align: right;\">\n",
       "      <th></th>\n",
       "      <th>App</th>\n",
       "      <th>Category</th>\n",
       "      <th>Rating</th>\n",
       "      <th>Reviews</th>\n",
       "      <th>Size</th>\n",
       "      <th>Installs</th>\n",
       "      <th>Type</th>\n",
       "      <th>Price</th>\n",
       "      <th>Content Rating</th>\n",
       "      <th>Genres</th>\n",
       "      <th>Last Updated</th>\n",
       "      <th>Current Ver</th>\n",
       "      <th>Android Ver</th>\n",
       "    </tr>\n",
       "  </thead>\n",
       "  <tbody>\n",
       "    <tr>\n",
       "      <th>0</th>\n",
       "      <td>Photo Editor &amp; Candy Camera &amp; Grid &amp; ScrapBook</td>\n",
       "      <td>ART_AND_DESIGN</td>\n",
       "      <td>4.1</td>\n",
       "      <td>159</td>\n",
       "      <td>19M</td>\n",
       "      <td>10,000+</td>\n",
       "      <td>Free</td>\n",
       "      <td>0</td>\n",
       "      <td>Everyone</td>\n",
       "      <td>Art &amp; Design</td>\n",
       "      <td>January 7, 2018</td>\n",
       "      <td>1.0.0</td>\n",
       "      <td>4.0.3 and up</td>\n",
       "    </tr>\n",
       "    <tr>\n",
       "      <th>1</th>\n",
       "      <td>Coloring book moana</td>\n",
       "      <td>ART_AND_DESIGN</td>\n",
       "      <td>3.9</td>\n",
       "      <td>967</td>\n",
       "      <td>14M</td>\n",
       "      <td>500,000+</td>\n",
       "      <td>Free</td>\n",
       "      <td>0</td>\n",
       "      <td>Everyone</td>\n",
       "      <td>Art &amp; Design;Pretend Play</td>\n",
       "      <td>January 15, 2018</td>\n",
       "      <td>2.0.0</td>\n",
       "      <td>4.0.3 and up</td>\n",
       "    </tr>\n",
       "    <tr>\n",
       "      <th>2</th>\n",
       "      <td>U Launcher Lite – FREE Live Cool Themes, Hide ...</td>\n",
       "      <td>ART_AND_DESIGN</td>\n",
       "      <td>4.7</td>\n",
       "      <td>87510</td>\n",
       "      <td>8.7M</td>\n",
       "      <td>5,000,000+</td>\n",
       "      <td>Free</td>\n",
       "      <td>0</td>\n",
       "      <td>Everyone</td>\n",
       "      <td>Art &amp; Design</td>\n",
       "      <td>August 1, 2018</td>\n",
       "      <td>1.2.4</td>\n",
       "      <td>4.0.3 and up</td>\n",
       "    </tr>\n",
       "    <tr>\n",
       "      <th>3</th>\n",
       "      <td>Sketch - Draw &amp; Paint</td>\n",
       "      <td>ART_AND_DESIGN</td>\n",
       "      <td>4.5</td>\n",
       "      <td>215644</td>\n",
       "      <td>25M</td>\n",
       "      <td>50,000,000+</td>\n",
       "      <td>Free</td>\n",
       "      <td>0</td>\n",
       "      <td>Teen</td>\n",
       "      <td>Art &amp; Design</td>\n",
       "      <td>June 8, 2018</td>\n",
       "      <td>Varies with device</td>\n",
       "      <td>4.2 and up</td>\n",
       "    </tr>\n",
       "    <tr>\n",
       "      <th>4</th>\n",
       "      <td>Pixel Draw - Number Art Coloring Book</td>\n",
       "      <td>ART_AND_DESIGN</td>\n",
       "      <td>4.3</td>\n",
       "      <td>967</td>\n",
       "      <td>2.8M</td>\n",
       "      <td>100,000+</td>\n",
       "      <td>Free</td>\n",
       "      <td>0</td>\n",
       "      <td>Everyone</td>\n",
       "      <td>Art &amp; Design;Creativity</td>\n",
       "      <td>June 20, 2018</td>\n",
       "      <td>1.1</td>\n",
       "      <td>4.4 and up</td>\n",
       "    </tr>\n",
       "    <tr>\n",
       "      <th>...</th>\n",
       "      <td>...</td>\n",
       "      <td>...</td>\n",
       "      <td>...</td>\n",
       "      <td>...</td>\n",
       "      <td>...</td>\n",
       "      <td>...</td>\n",
       "      <td>...</td>\n",
       "      <td>...</td>\n",
       "      <td>...</td>\n",
       "      <td>...</td>\n",
       "      <td>...</td>\n",
       "      <td>...</td>\n",
       "      <td>...</td>\n",
       "    </tr>\n",
       "    <tr>\n",
       "      <th>8881</th>\n",
       "      <td>FR Calculator</td>\n",
       "      <td>FAMILY</td>\n",
       "      <td>4.0</td>\n",
       "      <td>7</td>\n",
       "      <td>2.6M</td>\n",
       "      <td>500+</td>\n",
       "      <td>Free</td>\n",
       "      <td>0</td>\n",
       "      <td>Everyone</td>\n",
       "      <td>Education</td>\n",
       "      <td>June 18, 2017</td>\n",
       "      <td>1.0.0</td>\n",
       "      <td>4.1 and up</td>\n",
       "    </tr>\n",
       "    <tr>\n",
       "      <th>8882</th>\n",
       "      <td>Sya9a Maroc - FR</td>\n",
       "      <td>FAMILY</td>\n",
       "      <td>4.5</td>\n",
       "      <td>38</td>\n",
       "      <td>53M</td>\n",
       "      <td>5,000+</td>\n",
       "      <td>Free</td>\n",
       "      <td>0</td>\n",
       "      <td>Everyone</td>\n",
       "      <td>Education</td>\n",
       "      <td>July 25, 2017</td>\n",
       "      <td>1.48</td>\n",
       "      <td>4.1 and up</td>\n",
       "    </tr>\n",
       "    <tr>\n",
       "      <th>8883</th>\n",
       "      <td>Fr. Mike Schmitz Audio Teachings</td>\n",
       "      <td>FAMILY</td>\n",
       "      <td>5.0</td>\n",
       "      <td>4</td>\n",
       "      <td>3.6M</td>\n",
       "      <td>100+</td>\n",
       "      <td>Free</td>\n",
       "      <td>0</td>\n",
       "      <td>Everyone</td>\n",
       "      <td>Education</td>\n",
       "      <td>July 6, 2018</td>\n",
       "      <td>1.0</td>\n",
       "      <td>4.1 and up</td>\n",
       "    </tr>\n",
       "    <tr>\n",
       "      <th>8884</th>\n",
       "      <td>The SCP Foundation DB fr nn5n</td>\n",
       "      <td>BOOKS_AND_REFERENCE</td>\n",
       "      <td>4.5</td>\n",
       "      <td>114</td>\n",
       "      <td>Varies with device</td>\n",
       "      <td>1,000+</td>\n",
       "      <td>Free</td>\n",
       "      <td>0</td>\n",
       "      <td>Mature 17+</td>\n",
       "      <td>Books &amp; Reference</td>\n",
       "      <td>January 19, 2015</td>\n",
       "      <td>Varies with device</td>\n",
       "      <td>Varies with device</td>\n",
       "    </tr>\n",
       "    <tr>\n",
       "      <th>8885</th>\n",
       "      <td>iHoroscope - 2018 Daily Horoscope &amp; Astrology</td>\n",
       "      <td>LIFESTYLE</td>\n",
       "      <td>4.5</td>\n",
       "      <td>398307</td>\n",
       "      <td>19M</td>\n",
       "      <td>10,000,000+</td>\n",
       "      <td>Free</td>\n",
       "      <td>0</td>\n",
       "      <td>Everyone</td>\n",
       "      <td>Lifestyle</td>\n",
       "      <td>July 25, 2018</td>\n",
       "      <td>Varies with device</td>\n",
       "      <td>Varies with device</td>\n",
       "    </tr>\n",
       "  </tbody>\n",
       "</table>\n",
       "<p>8886 rows × 13 columns</p>\n",
       "</div>"
      ],
      "text/plain": [
       "                                                    App             Category  \\\n",
       "0        Photo Editor & Candy Camera & Grid & ScrapBook       ART_AND_DESIGN   \n",
       "1                                   Coloring book moana       ART_AND_DESIGN   \n",
       "2     U Launcher Lite – FREE Live Cool Themes, Hide ...       ART_AND_DESIGN   \n",
       "3                                 Sketch - Draw & Paint       ART_AND_DESIGN   \n",
       "4                 Pixel Draw - Number Art Coloring Book       ART_AND_DESIGN   \n",
       "...                                                 ...                  ...   \n",
       "8881                                      FR Calculator               FAMILY   \n",
       "8882                                   Sya9a Maroc - FR               FAMILY   \n",
       "8883                   Fr. Mike Schmitz Audio Teachings               FAMILY   \n",
       "8884                      The SCP Foundation DB fr nn5n  BOOKS_AND_REFERENCE   \n",
       "8885      iHoroscope - 2018 Daily Horoscope & Astrology            LIFESTYLE   \n",
       "\n",
       "      Rating Reviews                Size     Installs  Type Price  \\\n",
       "0        4.1     159                 19M      10,000+  Free     0   \n",
       "1        3.9     967                 14M     500,000+  Free     0   \n",
       "2        4.7   87510                8.7M   5,000,000+  Free     0   \n",
       "3        4.5  215644                 25M  50,000,000+  Free     0   \n",
       "4        4.3     967                2.8M     100,000+  Free     0   \n",
       "...      ...     ...                 ...          ...   ...   ...   \n",
       "8881     4.0       7                2.6M         500+  Free     0   \n",
       "8882     4.5      38                 53M       5,000+  Free     0   \n",
       "8883     5.0       4                3.6M         100+  Free     0   \n",
       "8884     4.5     114  Varies with device       1,000+  Free     0   \n",
       "8885     4.5  398307                 19M  10,000,000+  Free     0   \n",
       "\n",
       "     Content Rating                     Genres      Last Updated  \\\n",
       "0          Everyone               Art & Design   January 7, 2018   \n",
       "1          Everyone  Art & Design;Pretend Play  January 15, 2018   \n",
       "2          Everyone               Art & Design    August 1, 2018   \n",
       "3              Teen               Art & Design      June 8, 2018   \n",
       "4          Everyone    Art & Design;Creativity     June 20, 2018   \n",
       "...             ...                        ...               ...   \n",
       "8881       Everyone                  Education     June 18, 2017   \n",
       "8882       Everyone                  Education     July 25, 2017   \n",
       "8883       Everyone                  Education      July 6, 2018   \n",
       "8884     Mature 17+          Books & Reference  January 19, 2015   \n",
       "8885       Everyone                  Lifestyle     July 25, 2018   \n",
       "\n",
       "             Current Ver         Android Ver  \n",
       "0                  1.0.0        4.0.3 and up  \n",
       "1                  2.0.0        4.0.3 and up  \n",
       "2                  1.2.4        4.0.3 and up  \n",
       "3     Varies with device          4.2 and up  \n",
       "4                    1.1          4.4 and up  \n",
       "...                  ...                 ...  \n",
       "8881               1.0.0          4.1 and up  \n",
       "8882                1.48          4.1 and up  \n",
       "8883                 1.0          4.1 and up  \n",
       "8884  Varies with device  Varies with device  \n",
       "8885  Varies with device  Varies with device  \n",
       "\n",
       "[8886 rows x 13 columns]"
      ]
     },
     "metadata": {
      "tags": []
     },
     "output_type": "display_data"
    },
    {
     "data": {
      "text/plain": [
       "8190"
      ]
     },
     "execution_count": 8,
     "metadata": {
      "tags": []
     },
     "output_type": "execute_result"
    }
   ],
   "source": [
    "display(df)  #this is a much neater presentation than print(df)\n",
    "df.App.nunique() #explore how many unique app titles. \n",
    "              #the result shows there are 696 apps repeated.\n",
    "              #but are not considered as duplicates because other columns' data are different.  "
   ]
  },
  {
   "cell_type": "markdown",
   "metadata": {
    "colab_type": "text",
    "id": "gJXuQGK3D0LQ"
   },
   "source": [
    "#### Print the shape of the data read\n",
    "Display the size of the dataset read"
   ]
  },
  {
   "cell_type": "code",
   "execution_count": 9,
   "metadata": {
    "colab": {
     "base_uri": "https://localhost:8080/",
     "height": 34
    },
    "colab_type": "code",
    "executionInfo": {
     "elapsed": 1647,
     "status": "ok",
     "timestamp": 1589784764021,
     "user": {
      "displayName": "Kenneth Liang",
      "photoUrl": "",
      "userId": "05662177769588552056"
     },
     "user_tz": -480
    },
    "id": "EpT3fLGKD0LR",
    "outputId": "ed215903-63a0-4d50-c792-180df42eb8a5"
   },
   "outputs": [
    {
     "data": {
      "text/plain": [
       "(8886, 13)"
      ]
     },
     "execution_count": 9,
     "metadata": {
      "tags": []
     },
     "output_type": "execute_result"
    }
   ],
   "source": [
    "df.shape"
   ]
  },
  {
   "cell_type": "markdown",
   "metadata": {
    "colab_type": "text",
    "id": "xl3aHuiRD0LT"
   },
   "source": [
    ">  ####   After removing the rows with NULL values and the duplicated entries, there are 886 apps left for analysis. \n",
    "\n",
    "\n",
    "> #### Let's analyze their ratings and performance.\n",
    "\n",
    "***"
   ]
  },
  {
   "cell_type": "markdown",
   "metadata": {
    "colab_type": "text",
    "id": "o9znBL1LD0LU"
   },
   "source": [
    "<a id='3.2'></a>\n",
    "### 3.2 Handling Data Types of each Feature\n",
    "\n",
    "#### The data types of each feature must be changed to a proper format that can be used for analysis."
   ]
  },
  {
   "cell_type": "markdown",
   "metadata": {
    "colab_type": "text",
    "id": "pOuB2PaPD0LX"
   },
   "source": [
    "The feature *Reviews* must be of numerical type. \n"
   ]
  },
  {
   "cell_type": "code",
   "execution_count": 10,
   "metadata": {
    "colab": {
     "base_uri": "https://localhost:8080/",
     "height": 629
    },
    "colab_type": "code",
    "executionInfo": {
     "elapsed": 1639,
     "status": "ok",
     "timestamp": 1589784764022,
     "user": {
      "displayName": "Kenneth Liang",
      "photoUrl": "",
      "userId": "05662177769588552056"
     },
     "user_tz": -480
    },
    "id": "u8_VvKokD0LY",
    "outputId": "e007b05c-593d-446c-d6c7-4a1004211017"
   },
   "outputs": [
    {
     "name": "stdout",
     "output_type": "stream",
     "text": [
      "App                object\n",
      "Category           object\n",
      "Rating            float64\n",
      "Reviews            object\n",
      "Size               object\n",
      "Installs           object\n",
      "Type               object\n",
      "Price              object\n",
      "Content Rating     object\n",
      "Genres             object\n",
      "Last Updated       object\n",
      "Current Ver        object\n",
      "Android Ver        object\n",
      "dtype: object\n",
      "count     8886\n",
      "unique    5990\n",
      "top          2\n",
      "freq        82\n",
      "Name: Reviews, dtype: object\n",
      "\n",
      " 5990 \n",
      "\n",
      "App                object\n",
      "Category           object\n",
      "Rating            float64\n",
      "Reviews             int64\n",
      "Size               object\n",
      "Installs           object\n",
      "Type               object\n",
      "Price              object\n",
      "Content Rating     object\n",
      "Genres             object\n",
      "Last Updated       object\n",
      "Current Ver        object\n",
      "Android Ver        object\n",
      "dtype: object\n"
     ]
    }
   ],
   "source": [
    "print(df.dtypes)  # Displaying Data types of each feature.\n",
    "\n",
    "print(df.Reviews.describe())            # to better understand the data in df.Reviews.\n",
    "print('\\n',df.Reviews.nunique(),'\\n')   # Shows that 5990 unique reviews number.\n",
    "\n",
    "df.Reviews=pd.to_numeric(df.Reviews, downcast='integer').astype('int64')\n",
    "\n",
    "print(df.dtypes) #column Reviews change the type into int64"
   ]
  },
  {
   "cell_type": "markdown",
   "metadata": {
    "colab_type": "text",
    "id": "lnLnxAEVD0Lb"
   },
   "source": [
    "#### Changing the Feature : Installs\n",
    "\n",
    "Other Features like *Size*, *Installs*, *Price* and *Android Vers* also must be of numeric type.    \n",
    "\n",
    "The install values they are holding must be changed to a proper format so that we can use them for analysis and plots.    \n",
    "\n",
    "Example : '10,000+' to 10000"
   ]
  },
  {
   "cell_type": "code",
   "execution_count": 11,
   "metadata": {
    "colab": {
     "base_uri": "https://localhost:8080/",
     "height": 425
    },
    "colab_type": "code",
    "executionInfo": {
     "elapsed": 1632,
     "status": "ok",
     "timestamp": 1589784764022,
     "user": {
      "displayName": "Kenneth Liang",
      "photoUrl": "",
      "userId": "05662177769588552056"
     },
     "user_tz": -480
    },
    "id": "2rSnn1PA_YP8",
    "outputId": "82501bb9-cc67-4783-af02-9f00b23a79a6"
   },
   "outputs": [
    {
     "name": "stdout",
     "output_type": "stream",
     "text": [
      "0        6\n",
      "1        7\n",
      "2        9\n",
      "3       10\n",
      "4        7\n",
      "        ..\n",
      "8881     3\n",
      "8882     5\n",
      "8883     3\n",
      "8884     5\n",
      "8885    10\n",
      "Name: Installs, Length: 8886, dtype: int64\n"
     ]
    },
    {
     "data": {
      "text/plain": [
       "9     2168\n",
       "7     1625\n",
       "6     1449\n",
       "10    1404\n",
       "5     1122\n",
       "3      502\n",
       "11     430\n",
       "2      125\n",
       "13      49\n",
       "1       12\n",
       "Name: Installs, dtype: int64"
      ]
     },
     "metadata": {
      "tags": []
     },
     "output_type": "display_data"
    },
    {
     "data": {
      "text/plain": [
       "8886"
      ]
     },
     "metadata": {
      "tags": []
     },
     "output_type": "display_data"
    }
   ],
   "source": [
    "#Before completing the next section, need to understand more about the occurances of '+' in the string.\n",
    "print(df.Installs.str.find('+'))\n",
    "#results show the lowest index in each row where '+' is found in string. \n",
    "#this is to get an idea where '+' is found in the string. \n",
    "display(df.Installs.str.find('+').value_counts(),(df.Installs.str.find('+').value_counts()).sum())\n",
    "#it seems like every row in Installs column has a '+'.\n",
    "#we will use this result to perform operation in next cell."
   ]
  },
  {
   "cell_type": "code",
   "execution_count": 12,
   "metadata": {
    "colab": {
     "base_uri": "https://localhost:8080/",
     "height": 119
    },
    "colab_type": "code",
    "executionInfo": {
     "elapsed": 2003,
     "status": "ok",
     "timestamp": 1589784764400,
     "user": {
      "displayName": "Kenneth Liang",
      "photoUrl": "",
      "userId": "05662177769588552056"
     },
     "user_tz": -480
    },
    "id": "5D7oDXpaD0Lc",
    "outputId": "6232d659-2d92-4cb6-bc25-d725e01cb3a6"
   },
   "outputs": [
    {
     "data": {
      "text/plain": [
       "0       10000.0\n",
       "1      500000.0\n",
       "2     5000000.0\n",
       "3    50000000.0\n",
       "4      100000.0\n",
       "Name: Installs, dtype: float64"
      ]
     },
     "execution_count": 12,
     "metadata": {
      "tags": []
     },
     "output_type": "execute_result"
    }
   ],
   "source": [
    "\n",
    "newInstalls = []  #given a new list newInstalls\n",
    "#loop through the df.Install to do the change Example : '10,000+' to 10000 \n",
    "for row in df.Installs:\n",
    "  row =  row.replace('+','') #add code:  remove the last char +\n",
    "  newRow = row.replace(',','') #add code: use row content to remove , \n",
    "  newInstalls.append(float(newRow)) #add code: convert newRow to float)\n",
    "  \n",
    "df.Installs = newInstalls  #update the new content into df column Installs\n",
    "df.Installs.head()\n"
   ]
  },
  {
   "cell_type": "markdown",
   "metadata": {
    "colab_type": "text",
    "id": "3qdBRbVqD0Le"
   },
   "source": [
    "#### Changing the feature : Size\n",
    "\n",
    "The column Size value is not usable for data analysis\n",
    "\n",
    "Change 15M to 15.0"
   ]
  },
  {
   "cell_type": "code",
   "execution_count": 13,
   "metadata": {
    "colab": {
     "base_uri": "https://localhost:8080/",
     "height": 238
    },
    "colab_type": "code",
    "executionInfo": {
     "elapsed": 1996,
     "status": "ok",
     "timestamp": 1589784764400,
     "user": {
      "displayName": "Kenneth Liang",
      "photoUrl": "",
      "userId": "05662177769588552056"
     },
     "user_tz": -480
    },
    "id": "baZAuji5BA8A",
    "outputId": "b5ac35c4-07c9-4749-f935-7953e26a29d1"
   },
   "outputs": [
    {
     "name": "stdout",
     "output_type": "stream",
     "text": [
      "Varies with device    1468\n",
      "14M                    153\n",
      "13M                    152\n",
      "12M                    151\n",
      "11M                    149\n",
      "                      ... \n",
      "811k                     1\n",
      "582k                     1\n",
      "721k                     1\n",
      "608k                     1\n",
      "540k                     1\n",
      "Name: Size, Length: 413, dtype: int64\n",
      "7162 7162\n"
     ]
    }
   ],
   "source": [
    "# below is a preliminary investigation into Size column and 'M' occurances before proceeding.\n",
    "print(df.Size.value_counts()) \n",
    "                     #result shows there are 1468 rows with string 'Varies with device'\n",
    "                     #there are some other numbers ending with 'M' and some end with 'k'\n",
    "\n",
    "print((df.Size.str.find('M')!=-1).sum(),df.Size.str.endswith('M').sum())\n",
    "#this shows that number of rows with 'M' is equal to number of rows with 'M'  at the end of string."
   ]
  },
  {
   "cell_type": "code",
   "execution_count": 14,
   "metadata": {
    "colab": {
     "base_uri": "https://localhost:8080/",
     "height": 119
    },
    "colab_type": "code",
    "executionInfo": {
     "elapsed": 1991,
     "status": "ok",
     "timestamp": 1589784764401,
     "user": {
      "displayName": "Kenneth Liang",
      "photoUrl": "",
      "userId": "05662177769588552056"
     },
     "user_tz": -480
    },
    "id": "clai9cfJD0Lf",
    "outputId": "5fac83f7-1494-4479-ce18-735410bc2063"
   },
   "outputs": [
    {
     "data": {
      "text/plain": [
       "0    19.0\n",
       "1    14.0\n",
       "2     8.7\n",
       "3    25.0\n",
       "4     2.8\n",
       "Name: Size, dtype: float64"
      ]
     },
     "execution_count": 14,
     "metadata": {
      "tags": []
     },
     "output_type": "execute_result"
    }
   ],
   "source": [
    "\n",
    "newSize = []\n",
    "for row in df.Size:\n",
    "    newrow = row.replace('M','') #add code: remove last char M\n",
    "    try:\n",
    "        newSize.append(float(newrow))#add code: convert the newrow into float)\n",
    "    except:\n",
    "        newSize.append(0) #When it says - Size Varies.   \n",
    "df.Size = newSize #update the newSize into df Size column\n",
    "df.Size.head()"
   ]
  },
  {
   "cell_type": "markdown",
   "metadata": {
    "colab_type": "text",
    "id": "wTPr3aiPD0Lh"
   },
   "source": [
    "#### Changing the feature : Price\n",
    "Most value in the df Price column is 0 but some have   \n",
    "```\n",
    "$2.44\n",
    "```\n"
   ]
  },
  {
   "cell_type": "code",
   "execution_count": 15,
   "metadata": {
    "colab": {
     "base_uri": "https://localhost:8080/",
     "height": 221
    },
    "colab_type": "code",
    "executionInfo": {
     "elapsed": 1984,
     "status": "ok",
     "timestamp": 1589784764401,
     "user": {
      "displayName": "Kenneth Liang",
      "photoUrl": "",
      "userId": "05662177769588552056"
     },
     "user_tz": -480
    },
    "id": "qSWqPQ8hFKxg",
    "outputId": "f867d9f3-4945-469a-e11f-e1593749e2e2"
   },
   "outputs": [
    {
     "data": {
      "text/plain": [
       "0        8275\n",
       "$2.99     110\n",
       "$0.99     104\n",
       "$4.99      68\n",
       "$1.99      59\n",
       "         ... \n",
       "$1.97       1\n",
       "$2.50       1\n",
       "$6.49       1\n",
       "$1.20       1\n",
       "$3.90       1\n",
       "Name: Price, Length: 73, dtype: int64"
      ]
     },
     "execution_count": 15,
     "metadata": {
      "tags": []
     },
     "output_type": "execute_result"
    }
   ],
   "source": [
    "df.Price.value_counts()\n",
    "#there are 8275 rows with 0 price. ie. Free. "
   ]
  },
  {
   "cell_type": "code",
   "execution_count": 16,
   "metadata": {
    "colab": {
     "base_uri": "https://localhost:8080/",
     "height": 119
    },
    "colab_type": "code",
    "executionInfo": {
     "elapsed": 1978,
     "status": "ok",
     "timestamp": 1589784764401,
     "user": {
      "displayName": "Kenneth Liang",
      "photoUrl": "",
      "userId": "05662177769588552056"
     },
     "user_tz": -480
    },
    "id": "vlLq9wveD0Li",
    "outputId": "dbcb904f-b445-479b-ce10-ee0748ab2d5d"
   },
   "outputs": [
    {
     "data": {
      "text/plain": [
       "0    0.0\n",
       "1    0.0\n",
       "2    0.0\n",
       "3    0.0\n",
       "4    0.0\n",
       "Name: Price, dtype: float64"
      ]
     },
     "execution_count": 16,
     "metadata": {
      "tags": []
     },
     "output_type": "execute_result"
    }
   ],
   "source": [
    "newPrice = []\n",
    "for row in df.Price:\n",
    "    if row!=0: #add code: to compare row not equal to 0:\n",
    "        #now this row content is likely eg. $2.44      \n",
    "        newrow = float(row.replace('$',''))#add code: extract row content without '$' then convert to float\n",
    "    else:\n",
    "        newrow = 0       \n",
    "    newPrice.append(newrow)       \n",
    "df.Price = newPrice\n",
    "df.Price.head()\n"
   ]
  },
  {
   "cell_type": "markdown",
   "metadata": {
    "colab_type": "text",
    "id": "N_rfL46BD0Ll"
   },
   "source": [
    "#### Changing the feature: Android Ver\n",
    "df column Android Ver has data like \"4.0.3 and up\"    \n",
    "only interested on the major version not the minor version   \n",
    "change \"4.0.3 and up\" to \"4.0\""
   ]
  },
  {
   "cell_type": "code",
   "execution_count": 17,
   "metadata": {
    "colab": {
     "base_uri": "https://localhost:8080/",
     "height": 561
    },
    "colab_type": "code",
    "executionInfo": {
     "elapsed": 1972,
     "status": "ok",
     "timestamp": 1589784764402,
     "user": {
      "displayName": "Kenneth Liang",
      "photoUrl": "",
      "userId": "05662177769588552056"
     },
     "user_tz": -480
    },
    "id": "3F624V0sPVfa",
    "outputId": "56a81139-3ee0-4ef0-9817-c269e5c50af7"
   },
   "outputs": [
    {
     "data": {
      "text/plain": [
       "4.1 and up            1987\n",
       "4.0.3 and up          1197\n",
       "Varies with device    1178\n",
       "4.0 and up            1092\n",
       "4.4 and up             789\n",
       "2.3 and up             573\n",
       "5.0 and up             481\n",
       "4.2 and up             330\n",
       "2.3.3 and up           238\n",
       "3.0 and up             207\n",
       "2.2 and up             203\n",
       "4.3 and up             199\n",
       "2.1 and up             112\n",
       "1.6 and up              87\n",
       "6.0 and up              46\n",
       "7.0 and up              41\n",
       "3.2 and up              31\n",
       "2.0 and up              27\n",
       "5.1 and up              16\n",
       "1.5 and up              15\n",
       "3.1 and up               8\n",
       "2.0.1 and up             7\n",
       "8.0 and up               5\n",
       "4.4W and up              5\n",
       "7.1 and up               3\n",
       "5.0 - 8.0                2\n",
       "1.0 and up               2\n",
       "4.0.3 - 7.1.1            2\n",
       "5.0 - 6.0                1\n",
       "4.1 - 7.1.1              1\n",
       "7.0 - 7.1.1              1\n",
       "Name: Android Ver, dtype: int64"
      ]
     },
     "execution_count": 17,
     "metadata": {
      "tags": []
     },
     "output_type": "execute_result"
    }
   ],
   "source": [
    "#to get a rough idea of the data in 'Android Ver'\n",
    "df['Android Ver'].value_counts()\n",
    "#there are 1178 rows with string 'Varies with device'\n",
    "#there are several versions with minor versions. \n",
    "#some versions have '-' in between."
   ]
  },
  {
   "cell_type": "code",
   "execution_count": 18,
   "metadata": {
    "colab": {
     "base_uri": "https://localhost:8080/",
     "height": 221
    },
    "colab_type": "code",
    "executionInfo": {
     "elapsed": 1965,
     "status": "ok",
     "timestamp": 1589784764402,
     "user": {
      "displayName": "Kenneth Liang",
      "photoUrl": "",
      "userId": "05662177769588552056"
     },
     "user_tz": -480
    },
    "id": "gFuyXyEKD0Lm",
    "outputId": "038bee36-fe59-4a8c-906a-50a9ff23b4c9"
   },
   "outputs": [
    {
     "data": {
      "text/plain": [
       "0       4.0\n",
       "1       4.0\n",
       "2       4.0\n",
       "3       4.2\n",
       "4       4.4\n",
       "       ... \n",
       "8881    4.1\n",
       "8882    4.1\n",
       "8883    4.1\n",
       "8884    0.0\n",
       "8885    0.0\n",
       "Name: Android Ver, Length: 8886, dtype: float64"
      ]
     },
     "execution_count": 18,
     "metadata": {
      "tags": []
     },
     "output_type": "execute_result"
    }
   ],
   "source": [
    "\n",
    "newVer = []\n",
    "for row in df['Android Ver']:\n",
    "    try:\n",
    "        newrow = float(row[0:3])# get row content extract the major version and convert to float\n",
    "    except:\n",
    "        newrow = 0  # When the value is - Varies with device   \n",
    "    newVer.append(newrow)\n",
    "df['Android Ver'] =  newVer\n",
    "df['Android Ver'] # total count for each Android Ver"
   ]
  },
  {
   "cell_type": "code",
   "execution_count": 19,
   "metadata": {
    "colab": {
     "base_uri": "https://localhost:8080/",
     "height": 674
    },
    "colab_type": "code",
    "executionInfo": {
     "elapsed": 1959,
     "status": "ok",
     "timestamp": 1589784764403,
     "user": {
      "displayName": "Kenneth Liang",
      "photoUrl": "",
      "userId": "05662177769588552056"
     },
     "user_tz": -480
    },
    "id": "_0W-JF0oKJ71",
    "outputId": "75390378-4595-421f-b3be-7c50ce8469af"
   },
   "outputs": [
    {
     "data": {
      "text/html": [
       "<div>\n",
       "<style scoped>\n",
       "    .dataframe tbody tr th:only-of-type {\n",
       "        vertical-align: middle;\n",
       "    }\n",
       "\n",
       "    .dataframe tbody tr th {\n",
       "        vertical-align: top;\n",
       "    }\n",
       "\n",
       "    .dataframe thead th {\n",
       "        text-align: right;\n",
       "    }\n",
       "</style>\n",
       "<table border=\"1\" class=\"dataframe\">\n",
       "  <thead>\n",
       "    <tr style=\"text-align: right;\">\n",
       "      <th></th>\n",
       "      <th>App</th>\n",
       "      <th>Category</th>\n",
       "      <th>Rating</th>\n",
       "      <th>Reviews</th>\n",
       "      <th>Size</th>\n",
       "      <th>Installs</th>\n",
       "      <th>Type</th>\n",
       "      <th>Price</th>\n",
       "      <th>Content Rating</th>\n",
       "      <th>Genres</th>\n",
       "      <th>Last Updated</th>\n",
       "      <th>Current Ver</th>\n",
       "      <th>Android Ver</th>\n",
       "    </tr>\n",
       "  </thead>\n",
       "  <tbody>\n",
       "    <tr>\n",
       "      <th>0</th>\n",
       "      <td>Photo Editor &amp; Candy Camera &amp; Grid &amp; ScrapBook</td>\n",
       "      <td>ART_AND_DESIGN</td>\n",
       "      <td>4.1</td>\n",
       "      <td>159</td>\n",
       "      <td>19.0</td>\n",
       "      <td>10000.0</td>\n",
       "      <td>Free</td>\n",
       "      <td>0.0</td>\n",
       "      <td>Everyone</td>\n",
       "      <td>Art &amp; Design</td>\n",
       "      <td>January 7, 2018</td>\n",
       "      <td>1.0.0</td>\n",
       "      <td>4.0</td>\n",
       "    </tr>\n",
       "    <tr>\n",
       "      <th>1</th>\n",
       "      <td>Coloring book moana</td>\n",
       "      <td>ART_AND_DESIGN</td>\n",
       "      <td>3.9</td>\n",
       "      <td>967</td>\n",
       "      <td>14.0</td>\n",
       "      <td>500000.0</td>\n",
       "      <td>Free</td>\n",
       "      <td>0.0</td>\n",
       "      <td>Everyone</td>\n",
       "      <td>Art &amp; Design;Pretend Play</td>\n",
       "      <td>January 15, 2018</td>\n",
       "      <td>2.0.0</td>\n",
       "      <td>4.0</td>\n",
       "    </tr>\n",
       "    <tr>\n",
       "      <th>2</th>\n",
       "      <td>U Launcher Lite – FREE Live Cool Themes, Hide ...</td>\n",
       "      <td>ART_AND_DESIGN</td>\n",
       "      <td>4.7</td>\n",
       "      <td>87510</td>\n",
       "      <td>8.7</td>\n",
       "      <td>5000000.0</td>\n",
       "      <td>Free</td>\n",
       "      <td>0.0</td>\n",
       "      <td>Everyone</td>\n",
       "      <td>Art &amp; Design</td>\n",
       "      <td>August 1, 2018</td>\n",
       "      <td>1.2.4</td>\n",
       "      <td>4.0</td>\n",
       "    </tr>\n",
       "    <tr>\n",
       "      <th>3</th>\n",
       "      <td>Sketch - Draw &amp; Paint</td>\n",
       "      <td>ART_AND_DESIGN</td>\n",
       "      <td>4.5</td>\n",
       "      <td>215644</td>\n",
       "      <td>25.0</td>\n",
       "      <td>50000000.0</td>\n",
       "      <td>Free</td>\n",
       "      <td>0.0</td>\n",
       "      <td>Teen</td>\n",
       "      <td>Art &amp; Design</td>\n",
       "      <td>June 8, 2018</td>\n",
       "      <td>Varies with device</td>\n",
       "      <td>4.2</td>\n",
       "    </tr>\n",
       "    <tr>\n",
       "      <th>4</th>\n",
       "      <td>Pixel Draw - Number Art Coloring Book</td>\n",
       "      <td>ART_AND_DESIGN</td>\n",
       "      <td>4.3</td>\n",
       "      <td>967</td>\n",
       "      <td>2.8</td>\n",
       "      <td>100000.0</td>\n",
       "      <td>Free</td>\n",
       "      <td>0.0</td>\n",
       "      <td>Everyone</td>\n",
       "      <td>Art &amp; Design;Creativity</td>\n",
       "      <td>June 20, 2018</td>\n",
       "      <td>1.1</td>\n",
       "      <td>4.4</td>\n",
       "    </tr>\n",
       "    <tr>\n",
       "      <th>...</th>\n",
       "      <td>...</td>\n",
       "      <td>...</td>\n",
       "      <td>...</td>\n",
       "      <td>...</td>\n",
       "      <td>...</td>\n",
       "      <td>...</td>\n",
       "      <td>...</td>\n",
       "      <td>...</td>\n",
       "      <td>...</td>\n",
       "      <td>...</td>\n",
       "      <td>...</td>\n",
       "      <td>...</td>\n",
       "      <td>...</td>\n",
       "    </tr>\n",
       "    <tr>\n",
       "      <th>8881</th>\n",
       "      <td>FR Calculator</td>\n",
       "      <td>FAMILY</td>\n",
       "      <td>4.0</td>\n",
       "      <td>7</td>\n",
       "      <td>2.6</td>\n",
       "      <td>500.0</td>\n",
       "      <td>Free</td>\n",
       "      <td>0.0</td>\n",
       "      <td>Everyone</td>\n",
       "      <td>Education</td>\n",
       "      <td>June 18, 2017</td>\n",
       "      <td>1.0.0</td>\n",
       "      <td>4.1</td>\n",
       "    </tr>\n",
       "    <tr>\n",
       "      <th>8882</th>\n",
       "      <td>Sya9a Maroc - FR</td>\n",
       "      <td>FAMILY</td>\n",
       "      <td>4.5</td>\n",
       "      <td>38</td>\n",
       "      <td>53.0</td>\n",
       "      <td>5000.0</td>\n",
       "      <td>Free</td>\n",
       "      <td>0.0</td>\n",
       "      <td>Everyone</td>\n",
       "      <td>Education</td>\n",
       "      <td>July 25, 2017</td>\n",
       "      <td>1.48</td>\n",
       "      <td>4.1</td>\n",
       "    </tr>\n",
       "    <tr>\n",
       "      <th>8883</th>\n",
       "      <td>Fr. Mike Schmitz Audio Teachings</td>\n",
       "      <td>FAMILY</td>\n",
       "      <td>5.0</td>\n",
       "      <td>4</td>\n",
       "      <td>3.6</td>\n",
       "      <td>100.0</td>\n",
       "      <td>Free</td>\n",
       "      <td>0.0</td>\n",
       "      <td>Everyone</td>\n",
       "      <td>Education</td>\n",
       "      <td>July 6, 2018</td>\n",
       "      <td>1.0</td>\n",
       "      <td>4.1</td>\n",
       "    </tr>\n",
       "    <tr>\n",
       "      <th>8884</th>\n",
       "      <td>The SCP Foundation DB fr nn5n</td>\n",
       "      <td>BOOKS_AND_REFERENCE</td>\n",
       "      <td>4.5</td>\n",
       "      <td>114</td>\n",
       "      <td>0.0</td>\n",
       "      <td>1000.0</td>\n",
       "      <td>Free</td>\n",
       "      <td>0.0</td>\n",
       "      <td>Mature 17+</td>\n",
       "      <td>Books &amp; Reference</td>\n",
       "      <td>January 19, 2015</td>\n",
       "      <td>Varies with device</td>\n",
       "      <td>0.0</td>\n",
       "    </tr>\n",
       "    <tr>\n",
       "      <th>8885</th>\n",
       "      <td>iHoroscope - 2018 Daily Horoscope &amp; Astrology</td>\n",
       "      <td>LIFESTYLE</td>\n",
       "      <td>4.5</td>\n",
       "      <td>398307</td>\n",
       "      <td>19.0</td>\n",
       "      <td>10000000.0</td>\n",
       "      <td>Free</td>\n",
       "      <td>0.0</td>\n",
       "      <td>Everyone</td>\n",
       "      <td>Lifestyle</td>\n",
       "      <td>July 25, 2018</td>\n",
       "      <td>Varies with device</td>\n",
       "      <td>0.0</td>\n",
       "    </tr>\n",
       "  </tbody>\n",
       "</table>\n",
       "<p>8886 rows × 13 columns</p>\n",
       "</div>"
      ],
      "text/plain": [
       "                                                    App             Category  \\\n",
       "0        Photo Editor & Candy Camera & Grid & ScrapBook       ART_AND_DESIGN   \n",
       "1                                   Coloring book moana       ART_AND_DESIGN   \n",
       "2     U Launcher Lite – FREE Live Cool Themes, Hide ...       ART_AND_DESIGN   \n",
       "3                                 Sketch - Draw & Paint       ART_AND_DESIGN   \n",
       "4                 Pixel Draw - Number Art Coloring Book       ART_AND_DESIGN   \n",
       "...                                                 ...                  ...   \n",
       "8881                                      FR Calculator               FAMILY   \n",
       "8882                                   Sya9a Maroc - FR               FAMILY   \n",
       "8883                   Fr. Mike Schmitz Audio Teachings               FAMILY   \n",
       "8884                      The SCP Foundation DB fr nn5n  BOOKS_AND_REFERENCE   \n",
       "8885      iHoroscope - 2018 Daily Horoscope & Astrology            LIFESTYLE   \n",
       "\n",
       "      Rating  Reviews  Size    Installs  Type  Price Content Rating  \\\n",
       "0        4.1      159  19.0     10000.0  Free    0.0       Everyone   \n",
       "1        3.9      967  14.0    500000.0  Free    0.0       Everyone   \n",
       "2        4.7    87510   8.7   5000000.0  Free    0.0       Everyone   \n",
       "3        4.5   215644  25.0  50000000.0  Free    0.0           Teen   \n",
       "4        4.3      967   2.8    100000.0  Free    0.0       Everyone   \n",
       "...      ...      ...   ...         ...   ...    ...            ...   \n",
       "8881     4.0        7   2.6       500.0  Free    0.0       Everyone   \n",
       "8882     4.5       38  53.0      5000.0  Free    0.0       Everyone   \n",
       "8883     5.0        4   3.6       100.0  Free    0.0       Everyone   \n",
       "8884     4.5      114   0.0      1000.0  Free    0.0     Mature 17+   \n",
       "8885     4.5   398307  19.0  10000000.0  Free    0.0       Everyone   \n",
       "\n",
       "                         Genres      Last Updated         Current Ver  \\\n",
       "0                  Art & Design   January 7, 2018               1.0.0   \n",
       "1     Art & Design;Pretend Play  January 15, 2018               2.0.0   \n",
       "2                  Art & Design    August 1, 2018               1.2.4   \n",
       "3                  Art & Design      June 8, 2018  Varies with device   \n",
       "4       Art & Design;Creativity     June 20, 2018                 1.1   \n",
       "...                         ...               ...                 ...   \n",
       "8881                  Education     June 18, 2017               1.0.0   \n",
       "8882                  Education     July 25, 2017                1.48   \n",
       "8883                  Education      July 6, 2018                 1.0   \n",
       "8884          Books & Reference  January 19, 2015  Varies with device   \n",
       "8885                  Lifestyle     July 25, 2018  Varies with device   \n",
       "\n",
       "      Android Ver  \n",
       "0             4.0  \n",
       "1             4.0  \n",
       "2             4.0  \n",
       "3             4.2  \n",
       "4             4.4  \n",
       "...           ...  \n",
       "8881          4.1  \n",
       "8882          4.1  \n",
       "8883          4.1  \n",
       "8884          0.0  \n",
       "8885          0.0  \n",
       "\n",
       "[8886 rows x 13 columns]"
      ]
     },
     "execution_count": 19,
     "metadata": {
      "tags": []
     },
     "output_type": "execute_result"
    }
   ],
   "source": [
    "df  #check the result in df"
   ]
  },
  {
   "cell_type": "markdown",
   "metadata": {
    "colab_type": "text",
    "id": "_eaxlwziD0Lo"
   },
   "source": [
    "<a id='4'></a>\n",
    "## 4. Analyzing Features :"
   ]
  },
  {
   "cell_type": "markdown",
   "metadata": {
    "colab_type": "text",
    "id": "5OC8X9U2D0Lp"
   },
   "source": [
    "### 4.1 Categories\n",
    "\n",
    "\n"
   ]
  },
  {
   "cell_type": "markdown",
   "metadata": {
    "colab_type": "text",
    "id": "59q-9ScHjfw7"
   },
   "source": [
    "#### Find the Total count for each of the Category \n",
    "\n",
    "\n",
    "```\n",
    "FAMILY                 1717\n",
    "GAME                   1074\n",
    "TOOLS                   733\n",
    "PRODUCTIVITY            334\n",
    "FINANCE                 317\n",
    "```\n",
    "\n"
   ]
  },
  {
   "cell_type": "code",
   "execution_count": 20,
   "metadata": {
    "colab": {
     "base_uri": "https://localhost:8080/",
     "height": 119
    },
    "colab_type": "code",
    "executionInfo": {
     "elapsed": 1953,
     "status": "ok",
     "timestamp": 1589784764403,
     "user": {
      "displayName": "Kenneth Liang",
      "photoUrl": "",
      "userId": "05662177769588552056"
     },
     "user_tz": -480
    },
    "id": "IdRCcujrD0Lq",
    "outputId": "fdc029d3-a992-46fa-edb2-cdc143d9cdce"
   },
   "outputs": [
    {
     "data": {
      "text/plain": [
       "FAMILY          1717\n",
       "GAME            1074\n",
       "TOOLS            733\n",
       "PRODUCTIVITY     334\n",
       "FINANCE          317\n",
       "Name: Category, dtype: int64"
      ]
     },
     "execution_count": 20,
     "metadata": {
      "tags": []
     },
     "output_type": "execute_result"
    }
   ],
   "source": [
    "\n",
    "df.Category.value_counts()#add code to get total count of each Category\n",
    "\n",
    "#to display just the top 5 Category\n",
    "(df.Category.value_counts())[0:5]"
   ]
  },
  {
   "cell_type": "markdown",
   "metadata": {
    "colab_type": "text",
    "id": "BEW_ZqJklaKv"
   },
   "source": [
    "#### Group using the column 'Type', 'Category' and aggregate Rating with the mean\n",
    "\n",
    "\n",
    "\n",
    "```\n",
    "\t\t                          Rating\n",
    "                               mean\n",
    "Type    Category\t\n",
    "Free\t ART_AND_DESIGN\t       4.358621\n",
    "       AUTO_AND_VEHICLES\t    4.184722\n",
    "       BEAUTY\t                4.278571\n",
    "       BOOKS_AND_REFERENCE\t  4.350888\n",
    "       BUSINESS\t              4.103448\n",
    "...\t...\t...\n",
    "Paid\t   SPORTS\t              4.254545\n",
    "         TOOLS          \t    4.169841\n",
    "        TRAVEL_AND_LOCAL     \t4.100000\n",
    "        VIDEO_PLAYERS\t        4.100000\n",
    "        WEATHER\t              4.371429\n",
    "```\n",
    "\n",
    "\n"
   ]
  },
  {
   "cell_type": "code",
   "execution_count": 21,
   "metadata": {
    "colab": {
     "base_uri": "https://localhost:8080/",
     "height": 238
    },
    "colab_type": "code",
    "executionInfo": {
     "elapsed": 1947,
     "status": "ok",
     "timestamp": 1589784764403,
     "user": {
      "displayName": "Kenneth Liang",
      "photoUrl": "",
      "userId": "05662177769588552056"
     },
     "user_tz": -480
    },
    "id": "cEgYGYGnlcWR",
    "outputId": "0fd71f1b-596d-44b2-9737-9c117bc54292"
   },
   "outputs": [
    {
     "data": {
      "text/plain": [
       "Type  Category           \n",
       "Free  ART_AND_DESIGN         4.358621\n",
       "      AUTO_AND_VEHICLES      4.184722\n",
       "      BEAUTY                 4.278571\n",
       "      BOOKS_AND_REFERENCE    4.350888\n",
       "      BUSINESS               4.103448\n",
       "                               ...   \n",
       "Paid  SPORTS                 4.254545\n",
       "      TOOLS                  4.169841\n",
       "      TRAVEL_AND_LOCAL       4.100000\n",
       "      VIDEO_PLAYERS          4.100000\n",
       "      WEATHER                4.371429\n",
       "Name: Rating, Length: 61, dtype: float64"
      ]
     },
     "execution_count": 21,
     "metadata": {
      "tags": []
     },
     "output_type": "execute_result"
    }
   ],
   "source": [
    "info=df.groupby(['Type','Category'])['Rating'].mean()  #using df then Group using the column 'Type', 'Category'and aggregate Rating with the mean\n",
    "info\n"
   ]
  },
  {
   "cell_type": "markdown",
   "metadata": {
    "colab_type": "text",
    "id": "Zg7dkxkYD0MD"
   },
   "source": [
    "### 4.2 Price \n",
    "#####  Find the most costly App in the PlayStore.\n"
   ]
  },
  {
   "cell_type": "code",
   "execution_count": 22,
   "metadata": {
    "colab": {
     "base_uri": "https://localhost:8080/",
     "height": 80
    },
    "colab_type": "code",
    "executionInfo": {
     "elapsed": 1941,
     "status": "ok",
     "timestamp": 1589784764404,
     "user": {
      "displayName": "Kenneth Liang",
      "photoUrl": "",
      "userId": "05662177769588552056"
     },
     "user_tz": -480
    },
    "id": "1RYO6PPVD0ME",
    "outputId": "fbba47ab-054b-4309-eeb7-953dab65e3de"
   },
   "outputs": [
    {
     "data": {
      "text/html": [
       "<div>\n",
       "<style scoped>\n",
       "    .dataframe tbody tr th:only-of-type {\n",
       "        vertical-align: middle;\n",
       "    }\n",
       "\n",
       "    .dataframe tbody tr th {\n",
       "        vertical-align: top;\n",
       "    }\n",
       "\n",
       "    .dataframe thead th {\n",
       "        text-align: right;\n",
       "    }\n",
       "</style>\n",
       "<table border=\"1\" class=\"dataframe\">\n",
       "  <thead>\n",
       "    <tr style=\"text-align: right;\">\n",
       "      <th></th>\n",
       "      <th>App</th>\n",
       "      <th>Category</th>\n",
       "      <th>Rating</th>\n",
       "      <th>Reviews</th>\n",
       "      <th>Size</th>\n",
       "      <th>Installs</th>\n",
       "      <th>Type</th>\n",
       "      <th>Price</th>\n",
       "      <th>Content Rating</th>\n",
       "      <th>Genres</th>\n",
       "      <th>Last Updated</th>\n",
       "      <th>Current Ver</th>\n",
       "      <th>Android Ver</th>\n",
       "    </tr>\n",
       "  </thead>\n",
       "  <tbody>\n",
       "    <tr>\n",
       "      <th>3747</th>\n",
       "      <td>I'm Rich - Trump Edition</td>\n",
       "      <td>LIFESTYLE</td>\n",
       "      <td>3.6</td>\n",
       "      <td>275</td>\n",
       "      <td>7.3</td>\n",
       "      <td>10000.0</td>\n",
       "      <td>Paid</td>\n",
       "      <td>400.0</td>\n",
       "      <td>Everyone</td>\n",
       "      <td>Lifestyle</td>\n",
       "      <td>May 3, 2018</td>\n",
       "      <td>1.0.1</td>\n",
       "      <td>4.1</td>\n",
       "    </tr>\n",
       "  </tbody>\n",
       "</table>\n",
       "</div>"
      ],
      "text/plain": [
       "                           App   Category  Rating  Reviews  Size  Installs  \\\n",
       "3747  I'm Rich - Trump Edition  LIFESTYLE     3.6      275   7.3   10000.0   \n",
       "\n",
       "      Type  Price Content Rating     Genres Last Updated Current Ver  \\\n",
       "3747  Paid  400.0       Everyone  Lifestyle  May 3, 2018       1.0.1   \n",
       "\n",
       "      Android Ver  \n",
       "3747          4.1  "
      ]
     },
     "execution_count": 22,
     "metadata": {
      "tags": []
     },
     "output_type": "execute_result"
    }
   ],
   "source": [
    "\n",
    "dfPriceMax=df[df.Price==df.Price.max()] #Find the row where the column price is max and store as a dataframe]\n",
    "dfPriceMax"
   ]
  },
  {
   "cell_type": "markdown",
   "metadata": {
    "colab_type": "text",
    "id": "6xCjCvwSD0MG"
   },
   "source": [
    "> #### Insight : The most costly App in the Store is: *I'm Rich - Trump Edition* costing 400 Dollars!\n",
    "\n",
    "***"
   ]
  },
  {
   "cell_type": "markdown",
   "metadata": {
    "colab_type": "text",
    "id": "E6HmcrImD0MR"
   },
   "source": [
    "<a id='5'></a>\n",
    "## 5. Further Analysis\n"
   ]
  },
  {
   "cell_type": "markdown",
   "metadata": {
    "colab_type": "text",
    "id": "6zeTAgDV53j6"
   },
   "source": [
    "\n",
    "Find all Apps with 5.0 ratings "
   ]
  },
  {
   "cell_type": "code",
   "execution_count": 23,
   "metadata": {
    "colab": {
     "base_uri": "https://localhost:8080/",
     "height": 238
    },
    "colab_type": "code",
    "executionInfo": {
     "elapsed": 1934,
     "status": "ok",
     "timestamp": 1589784764404,
     "user": {
      "displayName": "Kenneth Liang",
      "photoUrl": "",
      "userId": "05662177769588552056"
     },
     "user_tz": -480
    },
    "id": "mPR3JLsRD0MR",
    "outputId": "35e749ad-66a3-4211-ce18-9d3d6308f8bf"
   },
   "outputs": [
    {
     "data": {
      "text/html": [
       "<div>\n",
       "<style scoped>\n",
       "    .dataframe tbody tr th:only-of-type {\n",
       "        vertical-align: middle;\n",
       "    }\n",
       "\n",
       "    .dataframe tbody tr th {\n",
       "        vertical-align: top;\n",
       "    }\n",
       "\n",
       "    .dataframe thead th {\n",
       "        text-align: right;\n",
       "    }\n",
       "</style>\n",
       "<table border=\"1\" class=\"dataframe\">\n",
       "  <thead>\n",
       "    <tr style=\"text-align: right;\">\n",
       "      <th></th>\n",
       "      <th>App</th>\n",
       "      <th>Category</th>\n",
       "      <th>Rating</th>\n",
       "      <th>Reviews</th>\n",
       "      <th>Size</th>\n",
       "      <th>Installs</th>\n",
       "      <th>Type</th>\n",
       "      <th>Price</th>\n",
       "      <th>Content Rating</th>\n",
       "      <th>Genres</th>\n",
       "      <th>Last Updated</th>\n",
       "      <th>Current Ver</th>\n",
       "      <th>Android Ver</th>\n",
       "    </tr>\n",
       "  </thead>\n",
       "  <tbody>\n",
       "    <tr>\n",
       "      <th>283</th>\n",
       "      <td>Hojiboy Tojiboyev Life Hacks</td>\n",
       "      <td>COMICS</td>\n",
       "      <td>5.0</td>\n",
       "      <td>15</td>\n",
       "      <td>37.0</td>\n",
       "      <td>1000.0</td>\n",
       "      <td>Free</td>\n",
       "      <td>0.0</td>\n",
       "      <td>Everyone</td>\n",
       "      <td>Comics</td>\n",
       "      <td>June 26, 2018</td>\n",
       "      <td>2.0</td>\n",
       "      <td>4.0</td>\n",
       "    </tr>\n",
       "    <tr>\n",
       "      <th>529</th>\n",
       "      <td>American Girls Mobile Numbers</td>\n",
       "      <td>DATING</td>\n",
       "      <td>5.0</td>\n",
       "      <td>5</td>\n",
       "      <td>4.4</td>\n",
       "      <td>1000.0</td>\n",
       "      <td>Free</td>\n",
       "      <td>0.0</td>\n",
       "      <td>Mature 17+</td>\n",
       "      <td>Dating</td>\n",
       "      <td>July 17, 2018</td>\n",
       "      <td>3.0</td>\n",
       "      <td>4.0</td>\n",
       "    </tr>\n",
       "    <tr>\n",
       "      <th>531</th>\n",
       "      <td>Awake Dating</td>\n",
       "      <td>DATING</td>\n",
       "      <td>5.0</td>\n",
       "      <td>2</td>\n",
       "      <td>70.0</td>\n",
       "      <td>100.0</td>\n",
       "      <td>Free</td>\n",
       "      <td>0.0</td>\n",
       "      <td>Mature 17+</td>\n",
       "      <td>Dating</td>\n",
       "      <td>July 24, 2018</td>\n",
       "      <td>2.2.9</td>\n",
       "      <td>4.4</td>\n",
       "    </tr>\n",
       "    <tr>\n",
       "      <th>537</th>\n",
       "      <td>Spine- The dating app</td>\n",
       "      <td>DATING</td>\n",
       "      <td>5.0</td>\n",
       "      <td>5</td>\n",
       "      <td>9.3</td>\n",
       "      <td>500.0</td>\n",
       "      <td>Free</td>\n",
       "      <td>0.0</td>\n",
       "      <td>Teen</td>\n",
       "      <td>Dating</td>\n",
       "      <td>July 14, 2018</td>\n",
       "      <td>4.0</td>\n",
       "      <td>4.0</td>\n",
       "    </tr>\n",
       "    <tr>\n",
       "      <th>539</th>\n",
       "      <td>Girls Live Talk - Free Text and Video Chat</td>\n",
       "      <td>DATING</td>\n",
       "      <td>5.0</td>\n",
       "      <td>6</td>\n",
       "      <td>5.0</td>\n",
       "      <td>100.0</td>\n",
       "      <td>Free</td>\n",
       "      <td>0.0</td>\n",
       "      <td>Mature 17+</td>\n",
       "      <td>Dating</td>\n",
       "      <td>August 1, 2018</td>\n",
       "      <td>8.2</td>\n",
       "      <td>4.0</td>\n",
       "    </tr>\n",
       "  </tbody>\n",
       "</table>\n",
       "</div>"
      ],
      "text/plain": [
       "                                            App Category  Rating  Reviews  \\\n",
       "283                Hojiboy Tojiboyev Life Hacks   COMICS     5.0       15   \n",
       "529               American Girls Mobile Numbers   DATING     5.0        5   \n",
       "531                                Awake Dating   DATING     5.0        2   \n",
       "537                       Spine- The dating app   DATING     5.0        5   \n",
       "539  Girls Live Talk - Free Text and Video Chat   DATING     5.0        6   \n",
       "\n",
       "     Size  Installs  Type  Price Content Rating  Genres    Last Updated  \\\n",
       "283  37.0    1000.0  Free    0.0       Everyone  Comics   June 26, 2018   \n",
       "529   4.4    1000.0  Free    0.0     Mature 17+  Dating   July 17, 2018   \n",
       "531  70.0     100.0  Free    0.0     Mature 17+  Dating   July 24, 2018   \n",
       "537   9.3     500.0  Free    0.0           Teen  Dating   July 14, 2018   \n",
       "539   5.0     100.0  Free    0.0     Mature 17+  Dating  August 1, 2018   \n",
       "\n",
       "    Current Ver  Android Ver  \n",
       "283         2.0          4.0  \n",
       "529         3.0          4.0  \n",
       "531       2.2.9          4.4  \n",
       "537         4.0          4.0  \n",
       "539         8.2          4.0  "
      ]
     },
     "execution_count": 23,
     "metadata": {
      "tags": []
     },
     "output_type": "execute_result"
    }
   ],
   "source": [
    "\n",
    "df_full = df[df.Rating==5.0] #add code find all app with Ratings equal to 5.0]\n",
    "df_full.head()"
   ]
  },
  {
   "cell_type": "markdown",
   "metadata": {
    "colab_type": "text",
    "id": "lUuOEEKCD0Mb"
   },
   "source": [
    "### Find skew of  column Reviews==5.0 Rating Apps\n",
    "Use the df_full from above result"
   ]
  },
  {
   "cell_type": "code",
   "execution_count": 24,
   "metadata": {
    "colab": {
     "base_uri": "https://localhost:8080/",
     "height": 296
    },
    "colab_type": "code",
    "executionInfo": {
     "elapsed": 2288,
     "status": "ok",
     "timestamp": 1589784764765,
     "user": {
      "displayName": "Kenneth Liang",
      "photoUrl": "",
      "userId": "05662177769588552056"
     },
     "user_tz": -480
    },
    "id": "7i2E7_BxD0Mc",
    "outputId": "2d22fc3f-d715-45c4-b45d-de7961a31e59"
   },
   "outputs": [
    {
     "data": {
      "text/plain": [
       "<matplotlib.axes._subplots.AxesSubplot at 0x7fb32c6c1cc0>"
      ]
     },
     "execution_count": 24,
     "metadata": {
      "tags": []
     },
     "output_type": "execute_result"
    },
    {
     "data": {
      "image/png": "[encoded data removed]",
      "text/plain": [
       "<Figure size 432x288 with 1 Axes>"
      ]
     },
     "metadata": {
      "needs_background": "light",
      "tags": []
     },
     "output_type": "display_data"
    }
   ],
   "source": [
    "sns.distplot(df_full.Reviews)"
   ]
  },
  {
   "cell_type": "markdown",
   "metadata": {
    "colab_type": "text",
    "id": "0zIe67H4D0Me"
   },
   "source": [
    "Find the skew value for the column review==5"
   ]
  },
  {
   "cell_type": "code",
   "execution_count": 26,
   "metadata": {
    "colab": {
     "base_uri": "https://localhost:8080/",
     "height": 34
    },
    "colab_type": "code",
    "executionInfo": {
     "elapsed": 778,
     "status": "ok",
     "timestamp": 1589785528819,
     "user": {
      "displayName": "Kenneth Liang",
      "photoUrl": "",
      "userId": "05662177769588552056"
     },
     "user_tz": -480
    },
    "id": "S8D1WWdUquB6",
    "outputId": "12e7c5ad-6883-40cd-de1b-60e23d1e0ac1"
   },
   "outputs": [
    {
     "name": "stdout",
     "output_type": "stream",
     "text": [
      "4.89947158333185 <class 'numpy.float64'>\n"
     ]
    }
   ],
   "source": [
    "skewValueRow=df_full.Reviews.skew(axis=0)\n",
    "print(skewValueRow,type(skewValueRow)) #the distribution is highly positive skewed."
   ]
  },
  {
   "cell_type": "markdown",
   "metadata": {
    "colab_type": "text",
    "id": "15fkZ61cdsQf"
   },
   "source": [
    "### Category and Reviews \n",
    "\n",
    "- List the unique Categories\n",
    "- Display the average review for each unique Category \n",
    "- Sort and display the results using descending review\n",
    "\n",
    "\n",
    "Result as follows:\n",
    "\n",
    "```\n",
    "               category        review\n",
    "20               SOCIAL  2.186789e+06\n",
    "6         COMMUNICATION  1.958544e+06\n",
    "17                 GAME  1.318002e+06\n",
    "30        VIDEO_PLAYERS  6.898731e+05\n",
    "22          PHOTOGRAPHY  6.720308e+05\n",
    "21             SHOPPING  4.699553e+05\n",
    "9         ENTERTAINMENT  4.285650e+05\n",
    "25                TOOLS  3.726878e+05\n",
    "27         PRODUCTIVITY  3.070486e+05\n",
    "24     TRAVEL_AND_LOCAL  2.710488e+05\n",
    "32  MAPS_AND_NAVIGATION  2.472505e+05\n",
    "26      PERSONALIZATION  2.441312e+05\n",
    "18               FAMILY  2.310824e+05\n",
    "23               SPORTS  2.283990e+05\n",
    "29              WEATHER  1.947293e+05\n",
    "8             EDUCATION  1.795715e+05\n",
    "31   NEWS_AND_MAGAZINES  1.787145e+05\n",
    "3   BOOKS_AND_REFERENCE  1.235752e+05\n",
    "13   HEALTH_AND_FITNESS  1.177293e+05\n",
    "12       FOOD_AND_DRINK  7.237033e+04\n",
    "5                COMICS  5.830940e+04\n",
    "11              FINANCE  5.362640e+04\n",
    "4              BUSINESS  4.576928e+04\n",
    "16            LIFESTYLE  4.203134e+04\n",
    "14       HOUSE_AND_HOME  4.109399e+04\n",
    "7                DATING  3.487525e+04\n",
    "0        ART_AND_DESIGN  2.810356e+04\n",
    "28            PARENTING  1.907218e+04\n",
    "1     AUTO_AND_VEHICLES  1.594014e+04\n",
    "15   LIBRARIES_AND_DEMO  1.583422e+04\n",
    "2                BEAUTY  9.407929e+03\n",
    "19              MEDICAL  4.623930e+03\n",
    "10               EVENTS  3.568667e+03\n",
    "```\n",
    "\n",
    "\n",
    "\n"
   ]
  },
  {
   "cell_type": "code",
   "execution_count": 27,
   "metadata": {
    "colab": {
     "base_uri": "https://localhost:8080/",
     "height": 1000
    },
    "colab_type": "code",
    "executionInfo": {
     "elapsed": 1028,
     "status": "ok",
     "timestamp": 1589785589182,
     "user": {
      "displayName": "Kenneth Liang",
      "photoUrl": "",
      "userId": "05662177769588552056"
     },
     "user_tz": -480
    },
    "id": "GYHl7qaMeJkx",
    "outputId": "6f2d3cff-c11b-40bc-c959-45b8174c3713"
   },
   "outputs": [
    {
     "data": {
      "text/html": [
       "<div>\n",
       "<style scoped>\n",
       "    .dataframe tbody tr th:only-of-type {\n",
       "        vertical-align: middle;\n",
       "    }\n",
       "\n",
       "    .dataframe tbody tr th {\n",
       "        vertical-align: top;\n",
       "    }\n",
       "\n",
       "    .dataframe thead th {\n",
       "        text-align: right;\n",
       "    }\n",
       "</style>\n",
       "<table border=\"1\" class=\"dataframe\">\n",
       "  <thead>\n",
       "    <tr style=\"text-align: right;\">\n",
       "      <th></th>\n",
       "      <th>category_list</th>\n",
       "      <th>category_review</th>\n",
       "    </tr>\n",
       "  </thead>\n",
       "  <tbody>\n",
       "    <tr>\n",
       "      <th>20</th>\n",
       "      <td>SOCIAL</td>\n",
       "      <td>2.186789e+06</td>\n",
       "    </tr>\n",
       "    <tr>\n",
       "      <th>6</th>\n",
       "      <td>COMMUNICATION</td>\n",
       "      <td>1.958544e+06</td>\n",
       "    </tr>\n",
       "    <tr>\n",
       "      <th>17</th>\n",
       "      <td>GAME</td>\n",
       "      <td>1.318002e+06</td>\n",
       "    </tr>\n",
       "    <tr>\n",
       "      <th>30</th>\n",
       "      <td>VIDEO_PLAYERS</td>\n",
       "      <td>6.898731e+05</td>\n",
       "    </tr>\n",
       "    <tr>\n",
       "      <th>22</th>\n",
       "      <td>PHOTOGRAPHY</td>\n",
       "      <td>6.720308e+05</td>\n",
       "    </tr>\n",
       "    <tr>\n",
       "      <th>21</th>\n",
       "      <td>SHOPPING</td>\n",
       "      <td>4.699553e+05</td>\n",
       "    </tr>\n",
       "    <tr>\n",
       "      <th>9</th>\n",
       "      <td>ENTERTAINMENT</td>\n",
       "      <td>4.285650e+05</td>\n",
       "    </tr>\n",
       "    <tr>\n",
       "      <th>25</th>\n",
       "      <td>TOOLS</td>\n",
       "      <td>3.726878e+05</td>\n",
       "    </tr>\n",
       "    <tr>\n",
       "      <th>27</th>\n",
       "      <td>PRODUCTIVITY</td>\n",
       "      <td>3.070486e+05</td>\n",
       "    </tr>\n",
       "    <tr>\n",
       "      <th>24</th>\n",
       "      <td>TRAVEL_AND_LOCAL</td>\n",
       "      <td>2.710488e+05</td>\n",
       "    </tr>\n",
       "    <tr>\n",
       "      <th>32</th>\n",
       "      <td>MAPS_AND_NAVIGATION</td>\n",
       "      <td>2.472505e+05</td>\n",
       "    </tr>\n",
       "    <tr>\n",
       "      <th>26</th>\n",
       "      <td>PERSONALIZATION</td>\n",
       "      <td>2.441312e+05</td>\n",
       "    </tr>\n",
       "    <tr>\n",
       "      <th>18</th>\n",
       "      <td>FAMILY</td>\n",
       "      <td>2.310824e+05</td>\n",
       "    </tr>\n",
       "    <tr>\n",
       "      <th>23</th>\n",
       "      <td>SPORTS</td>\n",
       "      <td>2.283990e+05</td>\n",
       "    </tr>\n",
       "    <tr>\n",
       "      <th>29</th>\n",
       "      <td>WEATHER</td>\n",
       "      <td>1.947293e+05</td>\n",
       "    </tr>\n",
       "    <tr>\n",
       "      <th>8</th>\n",
       "      <td>EDUCATION</td>\n",
       "      <td>1.795715e+05</td>\n",
       "    </tr>\n",
       "    <tr>\n",
       "      <th>31</th>\n",
       "      <td>NEWS_AND_MAGAZINES</td>\n",
       "      <td>1.787145e+05</td>\n",
       "    </tr>\n",
       "    <tr>\n",
       "      <th>3</th>\n",
       "      <td>BOOKS_AND_REFERENCE</td>\n",
       "      <td>1.235752e+05</td>\n",
       "    </tr>\n",
       "    <tr>\n",
       "      <th>13</th>\n",
       "      <td>HEALTH_AND_FITNESS</td>\n",
       "      <td>1.177293e+05</td>\n",
       "    </tr>\n",
       "    <tr>\n",
       "      <th>12</th>\n",
       "      <td>FOOD_AND_DRINK</td>\n",
       "      <td>7.237033e+04</td>\n",
       "    </tr>\n",
       "    <tr>\n",
       "      <th>5</th>\n",
       "      <td>COMICS</td>\n",
       "      <td>5.830940e+04</td>\n",
       "    </tr>\n",
       "    <tr>\n",
       "      <th>11</th>\n",
       "      <td>FINANCE</td>\n",
       "      <td>5.362640e+04</td>\n",
       "    </tr>\n",
       "    <tr>\n",
       "      <th>4</th>\n",
       "      <td>BUSINESS</td>\n",
       "      <td>4.576928e+04</td>\n",
       "    </tr>\n",
       "    <tr>\n",
       "      <th>16</th>\n",
       "      <td>LIFESTYLE</td>\n",
       "      <td>4.203134e+04</td>\n",
       "    </tr>\n",
       "    <tr>\n",
       "      <th>14</th>\n",
       "      <td>HOUSE_AND_HOME</td>\n",
       "      <td>4.109399e+04</td>\n",
       "    </tr>\n",
       "    <tr>\n",
       "      <th>7</th>\n",
       "      <td>DATING</td>\n",
       "      <td>3.487525e+04</td>\n",
       "    </tr>\n",
       "    <tr>\n",
       "      <th>0</th>\n",
       "      <td>ART_AND_DESIGN</td>\n",
       "      <td>2.810356e+04</td>\n",
       "    </tr>\n",
       "    <tr>\n",
       "      <th>28</th>\n",
       "      <td>PARENTING</td>\n",
       "      <td>1.907218e+04</td>\n",
       "    </tr>\n",
       "    <tr>\n",
       "      <th>1</th>\n",
       "      <td>AUTO_AND_VEHICLES</td>\n",
       "      <td>1.594014e+04</td>\n",
       "    </tr>\n",
       "    <tr>\n",
       "      <th>15</th>\n",
       "      <td>LIBRARIES_AND_DEMO</td>\n",
       "      <td>1.583422e+04</td>\n",
       "    </tr>\n",
       "    <tr>\n",
       "      <th>2</th>\n",
       "      <td>BEAUTY</td>\n",
       "      <td>9.407929e+03</td>\n",
       "    </tr>\n",
       "    <tr>\n",
       "      <th>19</th>\n",
       "      <td>MEDICAL</td>\n",
       "      <td>4.623930e+03</td>\n",
       "    </tr>\n",
       "    <tr>\n",
       "      <th>10</th>\n",
       "      <td>EVENTS</td>\n",
       "      <td>3.568667e+03</td>\n",
       "    </tr>\n",
       "  </tbody>\n",
       "</table>\n",
       "</div>"
      ],
      "text/plain": [
       "          category_list  category_review\n",
       "20               SOCIAL     2.186789e+06\n",
       "6         COMMUNICATION     1.958544e+06\n",
       "17                 GAME     1.318002e+06\n",
       "30        VIDEO_PLAYERS     6.898731e+05\n",
       "22          PHOTOGRAPHY     6.720308e+05\n",
       "21             SHOPPING     4.699553e+05\n",
       "9         ENTERTAINMENT     4.285650e+05\n",
       "25                TOOLS     3.726878e+05\n",
       "27         PRODUCTIVITY     3.070486e+05\n",
       "24     TRAVEL_AND_LOCAL     2.710488e+05\n",
       "32  MAPS_AND_NAVIGATION     2.472505e+05\n",
       "26      PERSONALIZATION     2.441312e+05\n",
       "18               FAMILY     2.310824e+05\n",
       "23               SPORTS     2.283990e+05\n",
       "29              WEATHER     1.947293e+05\n",
       "8             EDUCATION     1.795715e+05\n",
       "31   NEWS_AND_MAGAZINES     1.787145e+05\n",
       "3   BOOKS_AND_REFERENCE     1.235752e+05\n",
       "13   HEALTH_AND_FITNESS     1.177293e+05\n",
       "12       FOOD_AND_DRINK     7.237033e+04\n",
       "5                COMICS     5.830940e+04\n",
       "11              FINANCE     5.362640e+04\n",
       "4              BUSINESS     4.576928e+04\n",
       "16            LIFESTYLE     4.203134e+04\n",
       "14       HOUSE_AND_HOME     4.109399e+04\n",
       "7                DATING     3.487525e+04\n",
       "0        ART_AND_DESIGN     2.810356e+04\n",
       "28            PARENTING     1.907218e+04\n",
       "1     AUTO_AND_VEHICLES     1.594014e+04\n",
       "15   LIBRARIES_AND_DEMO     1.583422e+04\n",
       "2                BEAUTY     9.407929e+03\n",
       "19              MEDICAL     4.623930e+03\n",
       "10               EVENTS     3.568667e+03"
      ]
     },
     "execution_count": 27,
     "metadata": {
      "tags": []
     },
     "output_type": "execute_result"
    }
   ],
   "source": [
    "\n",
    "cat_list = list(df['Category'].unique()\n",
    "cat_review = []\n",
    "for i in cat_list:\n",
    "    #extract row with that category in i\n",
    "    x = df[df['Category']==i].index #add code: ]\n",
    "\n",
    "    if(len(x)!=0):\n",
    "        \n",
    "        #review = get averge of review in this category\n",
    "        #store into cat_review\n",
    "          review=df.filter(items=x,axis=0).Reviews.mean()\n",
    "          cat_review.append(review)\n",
    "    \n",
    "#sorting\n",
    "#construct a Dataframe to add into the category_list and category_review as the 2 columns\n",
    "data_cat_rev = pd.DataFrame(list(zip(cat_list,cat_review)),columns=['category_list','category_review']) #add code: construct Dataframe\n",
    "data_cat_rev.sort_values(by=['category_review'],ascending=False, inplace=True) #add code: sort base in reviews as the descending order \n",
    "data_cat_rev\n",
    "\n",
    "\n"
   ]
  },
  {
   "cell_type": "code",
   "execution_count": 0,
   "metadata": {
    "colab": {},
    "colab_type": "code",
    "id": "QZIZh86UZP2F"
   },
   "outputs": [],
   "source": []
  }
 ],
 "metadata": {
  "colab": {
   "collapsed_sections": [],
   "name": "ITI102_Assignment1_20A453C.ipynb",
   "provenance": [],
   "toc_visible": true
  },
  "kernelspec": {
   "display_name": "Python 3",
   "language": "python",
   "name": "python3"
  },
  "language_info": {
   "codemirror_mode": {
    "name": "ipython",
    "version": 3
   },
   "file_extension": ".py",
   "mimetype": "text/x-python",
   "name": "python",
   "nbconvert_exporter": "python",
   "pygments_lexer": "ipython3",
   "version": "3.7.7"
  }
 },
 "nbformat": 4,
 "nbformat_minor": 1
}
